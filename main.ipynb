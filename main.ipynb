{
 "cells": [
  {
   "cell_type": "code",
   "execution_count": 1,
   "metadata": {},
   "outputs": [],
   "source": [
    "import time\n",
    "import pandas as pd\n",
    "from selenium import webdriver\n",
    "from selenium.webdriver.common.keys import Keys\n",
    "from selenium.webdriver.common.by import By\n",
    "from bs4 import BeautifulSoup\n"
   ]
  },
  {
   "cell_type": "markdown",
   "metadata": {},
   "source": [
    "#### 1. Product link\n",
    "#### 2. Product description\n",
    "#### 3. Product image\n",
    "#### 4. Price\n"
   ]
  },
  {
   "cell_type": "code",
   "execution_count": 2,
   "metadata": {},
   "outputs": [],
   "source": [
    "# Starting point\n",
    "driver = webdriver.Chrome()\n",
    "\n",
    "driver.get(\"https://www.ebay.com/sch/i.html?_from=R40&_trksid=p2380057.m570.l1313&_nkw=macbook&_sacat=0\")\n",
    "\n",
    "# Changing language\n",
    "driver.find_element(By.XPATH, '//span[@class=\"gh-eb-Geo-txt\"]').click()\n",
    "driver.find_element(By.XPATH, '//a[@id=\"gh-eb-Geo-a-en\"]').click()\n",
    "time.sleep(3)\n",
    "\n",
    "# Making 240 items per page\n",
    "driver.find_element(By.XPATH, '//button[@aria-controls=\"srp-ipp-menu-content\"]').click()\n",
    "time.sleep(2)\n",
    "driver.find_element(By.XPATH, '//a[@_sp=\"p2351460.m4115.l1514\"]').click()\n",
    "time.sleep(2)"
   ]
  },
  {
   "cell_type": "code",
   "execution_count": 3,
   "metadata": {},
   "outputs": [],
   "source": [
    "# Making a soup\n",
    "soup = BeautifulSoup(driver.page_source)\n",
    "\n",
    "# Extracting the macbook links\n",
    "a_tags = soup.find_all(\"a\", class_=\"s-item__link\")\n",
    "links = [link['href'] for link in a_tags]\n",
    "\n",
    "# Product description\n",
    "raw_descriptions = soup.find_all(\"div\", class_=\"s-item__title\")\n",
    "initial_descriptions = [data.text for data in raw_descriptions]\n",
    "ready_descriptions = []\n",
    "\n",
    "for _ in initial_descriptions:\n",
    "    if \"New Listing\" in _:\n",
    "        ready_descriptions.append(_[11:])\n",
    "    else:\n",
    "        ready_descriptions.append(_)\n",
    "\n",
    "# Extracting the macbook prices\n",
    "raw_price_tags = soup.find_all(\"span\", class_=\"s-item__price\")\n",
    "price_tags = [price.text for price in raw_price_tags]"
   ]
  },
  {
   "cell_type": "code",
   "execution_count": 4,
   "metadata": {},
   "outputs": [],
   "source": [
    "data_object = {\n",
    "    \"product_link\": links,\n",
    "    \"product_description\": ready_descriptions,\n",
    "    \"product_price\": price_tags,\n",
    "}\n",
    "\n",
    "df = pd.DataFrame(data_object)\n",
    "df.to_csv(\"result.csv\")"
   ]
  }
 ],
 "metadata": {
  "kernelspec": {
   "display_name": "Python 3.9.12 ('base')",
   "language": "python",
   "name": "python3"
  },
  "language_info": {
   "codemirror_mode": {
    "name": "ipython",
    "version": 3
   },
   "file_extension": ".py",
   "mimetype": "text/x-python",
   "name": "python",
   "nbconvert_exporter": "python",
   "pygments_lexer": "ipython3",
   "version": "3.9.12"
  },
  "orig_nbformat": 4,
  "vscode": {
   "interpreter": {
    "hash": "28707a05ef5de89aff01fed74661bb5c1eb450bee07877d9ab28ba975cab0e45"
   }
  }
 },
 "nbformat": 4,
 "nbformat_minor": 2
}
